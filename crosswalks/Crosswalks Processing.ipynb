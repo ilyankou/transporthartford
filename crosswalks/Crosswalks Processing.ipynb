{
 "cells": [
  {
   "cell_type": "markdown",
   "metadata": {},
   "source": [
    "# Filter Hartford crashes that happened in September-October-November\n",
    "## Save the files to `/data` folder. Use those files for all analysis."
   ]
  },
  {
   "cell_type": "code",
   "execution_count": 1,
   "metadata": {},
   "outputs": [],
   "source": [
    "import pandas as pd\n",
    "from geopy.distance import distance, lonlat\n",
    "from tqdm import tqdm"
   ]
  },
  {
   "cell_type": "code",
   "execution_count": 34,
   "metadata": {},
   "outputs": [],
   "source": [
    "# Read Persons file\n",
    "persons_path = 'raw/export_2859_2.csv'\n",
    "persons_raw = pd.read_csv(persons_path, engine=\"python\", skiprows=1, dtype=str)\n",
    "\n",
    "# Read Crashes file\n",
    "crashes_path = 'raw/export_2859_0.csv'\n",
    "crashes_raw = pd.read_csv(crashes_path, engine=\"python\", skiprows=1, dtype=str)"
   ]
  },
  {
   "cell_type": "code",
   "execution_count": 32,
   "metadata": {},
   "outputs": [],
   "source": [
    "# We only care about September-October-November crashes in Hartford\n",
    "relevant_crashes = crashes_raw[\n",
    "        ((crashes_raw['Month'] == '9')\n",
    "      | (crashes_raw['Month'] == '10')\n",
    "      | (crashes_raw['Month'] == '11'))\n",
    "      & (crashes_raw['Town Name'] == 'Hartford')\n",
    "    ]\n",
    "\n",
    "relevant_crashes = relevant_crashes.set_index('CrashId')\n",
    "\n",
    "# Filter out people that are not involved in relevant crashes\n",
    "relevant_persons = persons['CrashId'].apply(lambda x: True if x in crashes.index else False)\n",
    "\n",
    "# Save the files\n",
    "relevant_crashes.to_csv('data/crashes-sept-thru-nov-hartford.csv', index=False)\n",
    "persons[relevant_persons].to_csv('data/persons-sept-thru-nov-hartford.csv', index=False)"
   ]
  },
  {
   "cell_type": "markdown",
   "metadata": {},
   "source": [
    "# Create a Final master file with Persons, Crashes, and closest Crosswalk combined"
   ]
  },
  {
   "cell_type": "code",
   "execution_count": 96,
   "metadata": {},
   "outputs": [
    {
     "name": "stderr",
     "output_type": "stream",
     "text": [
      "/anaconda3/lib/python3.7/site-packages/IPython/core/interactiveshell.py:2785: DtypeWarning: Columns (9,76) have mixed types. Specify dtype option on import or set low_memory=False.\n",
      "  interactivity=interactivity, compiler=compiler, result=result)\n"
     ]
    }
   ],
   "source": [
    "# Read all data\n",
    "crashes = pd.read_csv('data/crashes-sept-thru-nov-hartford.csv')\n",
    "persons = pd.read_csv('data/persons-sept-thru-nov-hartford.csv')\n",
    "crosswalks = pd.read_csv('data/crosswalk_locations.csv', index_col=0).fillna('False')"
   ]
  },
  {
   "cell_type": "code",
   "execution_count": 97,
   "metadata": {},
   "outputs": [],
   "source": [
    "# First, for each crash, calculate the closest crosswalk location and record\n",
    "# rosswalk ID and distance in separate columns of Crashes dataset \n",
    "def get_nearest_crosswalk(crash):\n",
    "    crash_coords = (crash['Longitude'], crash['Latitude'])\n",
    "    xwk_id = 99999\n",
    "    xwk_dist = 99999\n",
    "    xwk_sign = 99999\n",
    "    \n",
    "    for i, row in crosswalks.iterrows():\n",
    "        crosswalk_coords = (row['Long'], row['Lat'])\n",
    "        dist = distance(lonlat(*crash_coords), lonlat(*crosswalk_coords)).feet\n",
    "        if dist < xwk_dist:\n",
    "            xwk_dist = dist\n",
    "            xwk_id = i\n",
    "            xwk_sign = row['SignInstalled']\n",
    "            \n",
    "            \n",
    "    return pd.Series({'Nearest Xwalk ID': xwk_id, 'Nearest Xwalk Distance': xwk_dist, 'Nearest Xwalk Sign': xwk_sign})\n",
    "\n",
    "crashes_with_crosswalk = pd.concat([crashes, crashes.apply(get_nearest_crosswalk, axis=1)], axis=1)\n"
   ]
  },
  {
   "cell_type": "code",
   "execution_count": 1,
   "metadata": {},
   "outputs": [],
   "source": [
    "#crashes_with_crosswalk[(crashes_with_crosswalk['Nearest Xwalk Distance'] < 30)\n",
    "#                      & (crashes_with_crosswalk['Year'] == 2015)]"
   ]
  },
  {
   "cell_type": "code",
   "execution_count": 98,
   "metadata": {},
   "outputs": [],
   "source": [
    "crashes_with_crosswalk.to_csv('data/crashes_with_crosswalk.csv')"
   ]
  },
  {
   "cell_type": "markdown",
   "metadata": {},
   "source": [
    "# Speed bumps"
   ]
  },
  {
   "cell_type": "code",
   "execution_count": 2,
   "metadata": {},
   "outputs": [
    {
     "name": "stderr",
     "output_type": "stream",
     "text": [
      "/anaconda3/lib/python3.7/site-packages/IPython/core/interactiveshell.py:2785: DtypeWarning: Columns (9,76) have mixed types. Specify dtype option on import or set low_memory=False.\n",
      "  interactivity=interactivity, compiler=compiler, result=result)\n",
      "100%|██████████| 7241/7241 [06:18<00:00, 19.14it/s]\n"
     ]
    }
   ],
   "source": [
    "# Read all data\n",
    "crashes = pd.read_csv('data/crashes-sept-thru-nov-hartford.csv')\n",
    "persons = pd.read_csv('data/persons-sept-thru-nov-hartford.csv')\n",
    "bumps = pd.read_csv('data/speed-bumps.csv')\n",
    "\n",
    "tqdm.pandas()\n",
    "\n",
    "# First, for each crash, calculate the closest crosswalk location and record\n",
    "# rosswalk ID and distance in separate columns of Crashes dataset \n",
    "def get_nearest_bump(crash):\n",
    "    crash_coords = (crash['Longitude'], crash['Latitude'])\n",
    "    bump_id = 99999\n",
    "    bump_dist = 99999\n",
    "    bump_sign = 99999\n",
    "    \n",
    "    for i, row in bumps.iterrows():\n",
    "        bump_coords = (row['Long'], row['Lat'])\n",
    "        dist = distance(lonlat(*crash_coords), lonlat(*bump_coords)).feet\n",
    "        if dist < bump_dist:\n",
    "            bump_dist = dist\n",
    "            bump_id = i\n",
    "            bump_sign = row['O / P']\n",
    "\n",
    "    return pd.Series({'Nearest Bump ID': bump_id, 'Nearest Bump Distance': bump_dist, 'Nearest Bump Type': bump_sign})\n",
    "\n",
    "crashes_with_bumps = pd.concat([crashes, crashes.progress_apply(get_nearest_bump, axis=1)], axis=1)\n",
    "\n",
    "crashes_with_bumps.to_csv('data/crashes_with_bumps.csv')"
   ]
  },
  {
   "cell_type": "code",
   "execution_count": 14,
   "metadata": {},
   "outputs": [],
   "source": []
  },
  {
   "cell_type": "code",
   "execution_count": null,
   "metadata": {},
   "outputs": [],
   "source": []
  }
 ],
 "metadata": {
  "kernelspec": {
   "display_name": "Python 3",
   "language": "python",
   "name": "python3"
  },
  "language_info": {
   "codemirror_mode": {
    "name": "ipython",
    "version": 3
   },
   "file_extension": ".py",
   "mimetype": "text/x-python",
   "name": "python",
   "nbconvert_exporter": "python",
   "pygments_lexer": "ipython3",
   "version": "3.7.2"
  }
 },
 "nbformat": 4,
 "nbformat_minor": 2
}
