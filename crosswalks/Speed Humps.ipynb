{
 "cells": [
  {
   "cell_type": "markdown",
   "metadata": {},
   "source": [
    "# Filter Hartford crashes that happened between November through May of all years"
   ]
  },
  {
   "cell_type": "code",
   "execution_count": 1,
   "metadata": {},
   "outputs": [],
   "source": [
    "import pandas as pd\n",
    "from geopy.distance import distance, lonlat\n",
    "from tqdm import tqdm"
   ]
  },
  {
   "cell_type": "code",
   "execution_count": 2,
   "metadata": {},
   "outputs": [],
   "source": [
    "# Read Persons file\n",
    "#persons_path = 'raw/2019-06-17/export_2859_2.csv'\n",
    "#persons_raw = pd.read_csv(persons_path, engine=\"python\", skiprows=1, dtype=str)\n",
    "\n",
    "# Read Crashes file\n",
    "crashes_path = 'raw/2019-06-17/export_2859_0.csv'\n",
    "crashes_raw = pd.read_csv(crashes_path, engine=\"python\", skiprows=1, dtype=str)"
   ]
  },
  {
   "cell_type": "code",
   "execution_count": 3,
   "metadata": {},
   "outputs": [],
   "source": [
    "# We only care about Hartford crashes that happened between November and May (inclusive)\n",
    "relevant_crashes = crashes_raw[ (crashes_raw['Town Name'] == 'Hartford')\n",
    "                               & crashes_raw['Month'].isin(['11', '12', '1', '2', '3', '4', '5'])]"
   ]
  },
  {
   "cell_type": "code",
   "execution_count": 4,
   "metadata": {},
   "outputs": [
    {
     "name": "stderr",
     "output_type": "stream",
     "text": [
      "100%|██████████| 18521/18521 [24:35<00:00, 12.63it/s]\n"
     ]
    }
   ],
   "source": [
    "# Add nearest speed hump to the relevant Crashes dataset\n",
    "speedhumps = pd.read_csv('data/speed-humps-all-locations.csv')\n",
    "\n",
    "def get_nearest_speedhump(crash):\n",
    "    crash_coords = (crash['Longitude'], crash['Latitude'])\n",
    "    hump_type = 99999\n",
    "    hump_dist = 99999\n",
    "    hump_date = 99999\n",
    "    \n",
    "    for i, row in speedhumps.iterrows():\n",
    "        speedhump_coords = (row['Long'], row['Lat'])\n",
    "        dist = distance(lonlat(*crash_coords), lonlat(*speedhump_coords)).feet\n",
    "        if dist < hump_dist:\n",
    "            hump_dist = dist\n",
    "            hump_type = row['SpeedhumpType']\n",
    "            hump_date = row['InstallDate']\n",
    "            \n",
    "    return pd.Series({'NearestSpeedhump': hump_type, 'NearestSpeedhumpDistance': hump_dist, 'NearestSpeedhumpInstallDate': hump_date})\n",
    "\n",
    "tqdm.pandas()\n",
    "crashes_with_humps = pd.concat([relevant_crashes, relevant_crashes.progress_apply(get_nearest_speedhump, axis=1)], axis=1)"
   ]
  },
  {
   "cell_type": "code",
   "execution_count": 5,
   "metadata": {},
   "outputs": [],
   "source": [
    "# Create Period column based on the date (eg '2015/2016' for\n",
    "# crashes that  happened between November 2015 and May 2016)\n",
    "def get_period(date):\n",
    "    if (date >= '2015-11-01') & (date <= '2016-05-31'):\n",
    "        return '2015/2016'\n",
    "    if (date >= '2016-11-01') & (date <= '2017-05-31'):\n",
    "        return '2016/2017'\n",
    "    if (date >= '2017-11-01') & (date <= '2018-05-31'):\n",
    "        return '2017/2018'\n",
    "    if (date >= '2018-11-01') & (date <= '2019-05-31'):\n",
    "        return '2018/2019'\n",
    "    return 'None'\n",
    "\n",
    "crashes_with_humps['Period'] = crashes_with_humps['Date Of Crash'].apply(get_period)"
   ]
  },
  {
   "cell_type": "markdown",
   "metadata": {},
   "source": [
    "### Save relevant data to the output .csv file"
   ]
  },
  {
   "cell_type": "code",
   "execution_count": 6,
   "metadata": {},
   "outputs": [],
   "source": [
    "crashes_with_humps[crashes_with_humps['Period'] != 'None'].filter([\n",
    "    'CrashId',\n",
    "    'Date Of Crash',\n",
    "    'Period',\n",
    "    'Crash Severity Text Format',\n",
    "    'Most Severe Injury Text Format',\n",
    "    'Number Of Motor Vehicles',\n",
    "    'Road Description',\n",
    "    'Manner of Crash / Collision Impact Text Format',\n",
    "    'Weather Condition Text Format',\n",
    "    'Latitude', 'Longitude',\n",
    "    'NearestSpeedhump', 'NearestSpeedhumpDistance', 'NearestSpeedhumpInstallDate'\n",
    "]).to_csv('output/crashes-with-humps.csv', index=False)"
   ]
  },
  {
   "cell_type": "code",
   "execution_count": null,
   "metadata": {},
   "outputs": [],
   "source": []
  }
 ],
 "metadata": {
  "kernelspec": {
   "display_name": "Python 3",
   "language": "python",
   "name": "python3"
  },
  "language_info": {
   "codemirror_mode": {
    "name": "ipython",
    "version": 3
   },
   "file_extension": ".py",
   "mimetype": "text/x-python",
   "name": "python",
   "nbconvert_exporter": "python",
   "pygments_lexer": "ipython3",
   "version": "3.7.2"
  }
 },
 "nbformat": 4,
 "nbformat_minor": 2
}
